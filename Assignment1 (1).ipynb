{
 "cells": [
  {
   "cell_type": "markdown",
   "id": "87452efb-28c4-43b1-9b1a-52fa8f878d20",
   "metadata": {},
   "source": [
    "# 1)"
   ]
  },
  {
   "cell_type": "code",
   "execution_count": 1,
   "id": "82991668-4ad9-4697-b13a-929631ef17aa",
   "metadata": {},
   "outputs": [
    {
     "name": "stdin",
     "output_type": "stream",
     "text": [
      "Enter Marks 67\n"
     ]
    },
    {
     "name": "stdout",
     "output_type": "stream",
     "text": [
      "Grade is C\n"
     ]
    }
   ],
   "source": [
    "percent = float(input(\"Enter Marks\"))\n",
    "Grade=\"\"\n",
    "if percent>90:\n",
    "    Grade=\"A\"\n",
    "elif percent>80 and percent<=90:\n",
    "    Grade=\"B\"\n",
    "elif percent>60 and percent<=80:\n",
    "    Grade=\"C\"\n",
    "else:\n",
    "    Grade=\"D\"\n",
    "print(f\"Grade is {Grade}\")"
   ]
  },
  {
   "cell_type": "markdown",
   "id": "6aa40534-6875-4f6a-8cc7-0995567eb78d",
   "metadata": {},
   "source": [
    "# 2)"
   ]
  },
  {
   "cell_type": "code",
   "execution_count": 3,
   "id": "2a8fde19-6be1-4e7f-9219-017307b75fb2",
   "metadata": {},
   "outputs": [
    {
     "name": "stdin",
     "output_type": "stream",
     "text": [
      "Enter price of bike 60000\n"
     ]
    },
    {
     "name": "stdout",
     "output_type": "stream",
     "text": [
      "Tax is Rs.6000.0\n"
     ]
    }
   ],
   "source": [
    "cost_price = int(input(\"Enter price of bike\"))\n",
    "Tax=0\n",
    "if cost_price>100000:\n",
    "    Tax = 0.15*cost_price\n",
    "elif cost_price>50000 and cost_price<=100000:\n",
    "    Tax = 0.1*cost_price\n",
    "else:\n",
    "    Tax = 0.5*cost_price\n",
    "print(\"Tax is Rs.{}\".format(Tax))"
   ]
  },
  {
   "cell_type": "markdown",
   "id": "124ba25d-fbd8-456a-9cc3-b708182a3fae",
   "metadata": {},
   "source": [
    "# 3)"
   ]
  },
  {
   "cell_type": "code",
   "execution_count": 6,
   "id": "ed5c63a6-5352-469f-980f-a412f2629a9e",
   "metadata": {},
   "outputs": [
    {
     "name": "stdin",
     "output_type": "stream",
     "text": [
      "Enter city Delhi\n"
     ]
    },
    {
     "name": "stdout",
     "output_type": "stream",
     "text": [
      "Red Fort\n"
     ]
    }
   ],
   "source": [
    "d={\"Delhi\":\"Red Fort\",\"Agra\":\"Taj Mahal\",\"Jaipur\":\"Jal Mahal\"}\n",
    "city = input(\"Enter city\")\n",
    "if city in d:\n",
    "    print(d[city])\n",
    "else:\n",
    "    print(\"Invalid\")"
   ]
  },
  {
   "cell_type": "markdown",
   "id": "abc697ab-8413-4a96-a24e-a6ccf9e7158b",
   "metadata": {},
   "source": [
    "# 4)"
   ]
  },
  {
   "cell_type": "code",
   "execution_count": 1,
   "id": "e2a5c6eb-7569-4359-9ac3-94b9a94451e4",
   "metadata": {},
   "outputs": [
    {
     "name": "stdin",
     "output_type": "stream",
     "text": [
      "Enter number 46\n"
     ]
    },
    {
     "name": "stdout",
     "output_type": "stream",
     "text": [
      "2\n"
     ]
    }
   ],
   "source": [
    "count = 0\n",
    "number = int(input(\"Enter number\"))\n",
    "while(number>10):\n",
    "    number/=3\n",
    "    count+=1\n",
    "print(count)"
   ]
  },
  {
   "cell_type": "markdown",
   "id": "c9da67cf-695c-42ff-bf8c-ed248e945194",
   "metadata": {},
   "source": [
    "# 5)"
   ]
  },
  {
   "cell_type": "markdown",
   "id": "00227bad-a54f-4ce7-8dcb-92bca667d36b",
   "metadata": {},
   "source": [
    "When we do not know for how many times the loop will run we use while loop"
   ]
  },
  {
   "cell_type": "code",
   "execution_count": 2,
   "id": "3799536f-723f-4441-b889-9759b520ef53",
   "metadata": {},
   "outputs": [
    {
     "name": "stdout",
     "output_type": "stream",
     "text": [
      "4\n"
     ]
    }
   ],
   "source": [
    "lst = [1,3,8,5,0,6]\n",
    "i=0\n",
    "while(lst[i]!=0):\n",
    "    i+=1\n",
    "print(i)"
   ]
  },
  {
   "cell_type": "markdown",
   "id": "8600d5aa-1998-453d-935b-2bf2c2b0acff",
   "metadata": {},
   "source": [
    "# 6)"
   ]
  },
  {
   "cell_type": "code",
   "execution_count": 3,
   "id": "d8a68b70-5d87-44a6-9d80-092ef89b1079",
   "metadata": {},
   "outputs": [
    {
     "name": "stdout",
     "output_type": "stream",
     "text": [
      "*****\n",
      "****\n",
      "***\n",
      "**\n",
      "*\n"
     ]
    }
   ],
   "source": [
    "n=5\n",
    "i=1\n",
    "while(i<=n):\n",
    "    j=i\n",
    "    while(j<=n):\n",
    "        print(\"*\",end=\"\")\n",
    "        j+=1\n",
    "    print()\n",
    "    i+=1"
   ]
  },
  {
   "cell_type": "code",
   "execution_count": 5,
   "id": "47a00277-7c06-4789-8143-999a220df06e",
   "metadata": {},
   "outputs": [
    {
     "name": "stdout",
     "output_type": "stream",
     "text": [
      "*\n",
      "**\n",
      "***\n",
      "****\n",
      "*****\n"
     ]
    }
   ],
   "source": [
    "n=5\n",
    "i=0\n",
    "while(i<n):\n",
    "    j=n-i+1\n",
    "    while(j<=n):\n",
    "        print(\"*\",end=\"\")\n",
    "        j+=1\n",
    "    print()\n",
    "    i+=1"
   ]
  },
  {
   "cell_type": "code",
   "execution_count": 10,
   "id": "3f1ce53e-1cca-4ae3-9098-66a3977441cc",
   "metadata": {},
   "outputs": [
    {
     "name": "stdout",
     "output_type": "stream",
     "text": [
      "      * \n",
      "     * * \n",
      "    * * * \n",
      "   * * * * \n",
      "  * * * * * \n",
      " * * * * * * \n",
      "* * * * * * * \n"
     ]
    }
   ],
   "source": [
    "n=7\n",
    "i=0\n",
    "while(i<n):\n",
    "    k=i\n",
    "    while(k<n-1):\n",
    "        print(\" \",end=\"\")\n",
    "        k+=1\n",
    "    j=0\n",
    "    while(j<=i):\n",
    "        print(\"* \",end=\"\")\n",
    "        j+=1\n",
    "    print()\n",
    "    i+=1"
   ]
  },
  {
   "cell_type": "markdown",
   "id": "14c22851-0dc5-45c9-bb8a-4253ef9e4dbd",
   "metadata": {},
   "source": [
    "# 7)"
   ]
  },
  {
   "cell_type": "code",
   "execution_count": 12,
   "id": "dba57251-f6d1-4e20-8d73-ddeb9dec01b0",
   "metadata": {},
   "outputs": [
    {
     "name": "stdout",
     "output_type": "stream",
     "text": [
      "10\n",
      "9\n",
      "8\n",
      "7\n",
      "6\n",
      "5\n",
      "4\n",
      "3\n",
      "2\n",
      "1\n"
     ]
    }
   ],
   "source": [
    "i=10\n",
    "while(i>=1):\n",
    "    print(i)\n",
    "    i-=1"
   ]
  }
 ],
 "metadata": {
  "kernelspec": {
   "display_name": "Python 3 (ipykernel)",
   "language": "python",
   "name": "python3"
  },
  "language_info": {
   "codemirror_mode": {
    "name": "ipython",
    "version": 3
   },
   "file_extension": ".py",
   "mimetype": "text/x-python",
   "name": "python",
   "nbconvert_exporter": "python",
   "pygments_lexer": "ipython3",
   "version": "3.10.8"
  }
 },
 "nbformat": 4,
 "nbformat_minor": 5
}
