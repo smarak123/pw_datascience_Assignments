{
 "cells": [
  {
   "cell_type": "markdown",
   "id": "1a7d176c-347c-4d16-a680-5575305aab05",
   "metadata": {},
   "source": [
    "# 1)"
   ]
  },
  {
   "cell_type": "code",
   "execution_count": 4,
   "id": "72e67663-219f-4bd5-bc69-8a5af5b2c995",
   "metadata": {},
   "outputs": [],
   "source": [
    "class vehicle:\n",
    "    def __init__(self, name_of_vehicle, max_speed, average_of_vehicle):\n",
    "        self.name_of_vehicle = name_of_vehicle\n",
    "        self.max_speed = max_speed\n",
    "        self.average_of_vehicle = average_of_vehicle\n",
    "\n"
   ]
  },
  {
   "cell_type": "markdown",
   "id": "94255692-94f2-458b-aca4-a0a9512f784c",
   "metadata": {},
   "source": [
    "# 2)"
   ]
  },
  {
   "cell_type": "code",
   "execution_count": null,
   "id": "45079946-8f87-4c9b-b19f-889954bce40f",
   "metadata": {},
   "outputs": [],
   "source": [
    "class car(vehicle):\n",
    "    def seating_capacity(self,capacity):\n",
    "        return self.name_of_vehicle,capacity"
   ]
  },
  {
   "cell_type": "code",
   "execution_count": 2,
   "id": "2ac78026-507a-495f-9655-e722d8f3a32d",
   "metadata": {},
   "outputs": [],
   "source": [
    "ob1 = car(\"Maruti\",150,10)"
   ]
  },
  {
   "cell_type": "code",
   "execution_count": 3,
   "id": "e5fd66b8-1cc3-4a00-9a9d-59843a903c43",
   "metadata": {},
   "outputs": [
    {
     "data": {
      "text/plain": [
       "('Maruti', 8)"
      ]
     },
     "execution_count": 3,
     "metadata": {},
     "output_type": "execute_result"
    }
   ],
   "source": [
    "ob1.seating_capacity(8)"
   ]
  },
  {
   "cell_type": "markdown",
   "id": "0360f133-73c9-417b-8cd7-6109daa266e1",
   "metadata": {},
   "source": [
    "# 3)"
   ]
  },
  {
   "cell_type": "markdown",
   "id": "1e355236-e3ed-4bf0-8502-e9943cf660f5",
   "metadata": {},
   "source": [
    "In multiple inheritance, a child class inherits from two or more classes."
   ]
  },
  {
   "cell_type": "code",
   "execution_count": 5,
   "id": "d4f5647c-9a76-4bac-a53a-9d22ec0d619b",
   "metadata": {},
   "outputs": [],
   "source": [
    "class class1:\n",
    "    def func_class1(self):\n",
    "        print(\"In class1\")\n",
    "class class2:\n",
    "    def func_class2(self):\n",
    "        print(\"In class2\")\n",
    "class class3(class1,class2):\n",
    "    pass\n",
    "ob = class3()"
   ]
  },
  {
   "cell_type": "code",
   "execution_count": 6,
   "id": "b1ac499d-5617-4dd3-b4da-296dd8debd31",
   "metadata": {},
   "outputs": [
    {
     "name": "stdout",
     "output_type": "stream",
     "text": [
      "In class1\n"
     ]
    }
   ],
   "source": [
    "ob.func_class1()"
   ]
  },
  {
   "cell_type": "code",
   "execution_count": 7,
   "id": "614a22cb-a532-4872-8900-ab6d2c5d5e49",
   "metadata": {},
   "outputs": [
    {
     "name": "stdout",
     "output_type": "stream",
     "text": [
      "In class2\n"
     ]
    }
   ],
   "source": [
    "ob.func_class2()"
   ]
  },
  {
   "cell_type": "markdown",
   "id": "7f23954f-b4b4-40b4-8129-ae589fa80353",
   "metadata": {},
   "source": [
    "# 4)"
   ]
  },
  {
   "cell_type": "markdown",
   "id": "adbc9f65-092d-4110-81ed-b965b0b21339",
   "metadata": {},
   "source": [
    "Whenever a class has a private member, it can't be accessed or modified normally from child classes. There we use getter and setter methods to access and modify data values respectively."
   ]
  },
  {
   "cell_type": "code",
   "execution_count": 8,
   "id": "046e1408-5d24-4ca2-b26f-efbb51b2b78b",
   "metadata": {},
   "outputs": [],
   "source": [
    "class bank:\n",
    "    def __init__(self,balance):\n",
    "        self.__balance = balance\n",
    "    def get_balance(self):\n",
    "        return self.__balance\n",
    "    def set_balance(self,balance):\n",
    "        self.__balance = balance"
   ]
  },
  {
   "cell_type": "markdown",
   "id": "0cbb7ba9-b5c4-447d-acb7-453bb831f28e",
   "metadata": {},
   "source": [
    "# 5)"
   ]
  },
  {
   "cell_type": "markdown",
   "id": "8299dd5b-f7e6-4b40-bdf4-aa57ba0f2796",
   "metadata": {},
   "source": [
    "Method overriding allows child classes methods to override the same methods which are also present in the parent class."
   ]
  },
  {
   "cell_type": "markdown",
   "id": "b8d59c60-e871-4846-809f-409b933e41c2",
   "metadata": {},
   "source": [
    "It is a runtime phenomenon.\n"
   ]
  },
  {
   "cell_type": "code",
   "execution_count": 9,
   "id": "235ffcb7-c2e3-4d92-bcc3-0e219558f613",
   "metadata": {},
   "outputs": [],
   "source": [
    "class animal:\n",
    "    def sound(self):\n",
    "        print(\"animals have specific sounds\")\n",
    "class dog(animal):\n",
    "    def sound(self):\n",
    "        print(\"Dogs bark\")"
   ]
  },
  {
   "cell_type": "code",
   "execution_count": 10,
   "id": "e2dd161b-941b-4275-a532-f7d4bc0116ca",
   "metadata": {},
   "outputs": [
    {
     "name": "stdout",
     "output_type": "stream",
     "text": [
      "Dogs bark\n"
     ]
    }
   ],
   "source": [
    "ob = dog()\n",
    "ob.sound()"
   ]
  },
  {
   "cell_type": "code",
   "execution_count": null,
   "id": "82967193-e292-4b65-8b95-cac175ab4541",
   "metadata": {},
   "outputs": [],
   "source": []
  }
 ],
 "metadata": {
  "kernelspec": {
   "display_name": "Python 3 (ipykernel)",
   "language": "python",
   "name": "python3"
  },
  "language_info": {
   "codemirror_mode": {
    "name": "ipython",
    "version": 3
   },
   "file_extension": ".py",
   "mimetype": "text/x-python",
   "name": "python",
   "nbconvert_exporter": "python",
   "pygments_lexer": "ipython3",
   "version": "3.10.8"
  }
 },
 "nbformat": 4,
 "nbformat_minor": 5
}
