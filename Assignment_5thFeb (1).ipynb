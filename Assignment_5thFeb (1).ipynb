{
 "cells": [
  {
   "cell_type": "markdown",
   "id": "3759f399-a40e-471d-8b4e-965b620e69b8",
   "metadata": {},
   "source": [
    "# 1)"
   ]
  },
  {
   "cell_type": "markdown",
   "id": "0160c405-389f-4dc5-98d6-47e936008096",
   "metadata": {},
   "source": [
    "Class is a blueprint from which objects are created. Objects can have unique attributes and properties"
   ]
  },
  {
   "cell_type": "code",
   "execution_count": 6,
   "id": "41231a0c-f763-4c9a-8cd2-7d45a9181740",
   "metadata": {},
   "outputs": [
    {
     "name": "stdout",
     "output_type": "stream",
     "text": [
      "I love Python\n"
     ]
    }
   ],
   "source": [
    "class Test:\n",
    "    def __init__(self):\n",
    "        print(\"I love Python\")\n",
    "a=Test()"
   ]
  },
  {
   "cell_type": "markdown",
   "id": "d2e546d0-2fc1-4cee-b3c3-3547c669af4a",
   "metadata": {},
   "source": [
    "# 2) \n"
   ]
  },
  {
   "cell_type": "markdown",
   "id": "63d99d20-107b-4a8b-86a8-919ea1172919",
   "metadata": {},
   "source": [
    "Inheritance , polymorphism, Encapsulation , Abstraction"
   ]
  },
  {
   "cell_type": "markdown",
   "id": "1b121dce-a15f-4b8e-a0f0-54ed1e036b08",
   "metadata": {},
   "source": [
    "# 3) "
   ]
  },
  {
   "cell_type": "markdown",
   "id": "67c1a8cf-6ff3-4228-85bb-a69c7d59de3f",
   "metadata": {},
   "source": [
    "__init__() method is a constructor. Whenever we create an object, the init method is called. It is specifically used to initialise variables."
   ]
  },
  {
   "cell_type": "code",
   "execution_count": 5,
   "id": "c81f7bf6-e7d3-4cc0-8404-2e148d9206cb",
   "metadata": {},
   "outputs": [
    {
     "data": {
      "text/plain": [
       "'I love Coding'"
      ]
     },
     "execution_count": 5,
     "metadata": {},
     "output_type": "execute_result"
    }
   ],
   "source": [
    "class Oops:\n",
    "    def __init__(self,string):\n",
    "        self.string = string\n",
    "a=Oops(\"I love Coding\")\n",
    "a.string"
   ]
  },
  {
   "cell_type": "markdown",
   "id": "05b39ccc-fcb6-4985-bd82-1e62d3835a7d",
   "metadata": {},
   "source": [
    "# 4) "
   ]
  },
  {
   "cell_type": "markdown",
   "id": "f238dbae-a87f-4c2e-8431-dd716f57ee5a",
   "metadata": {},
   "source": [
    "Self is used as a pointer to refer to the current class instance."
   ]
  },
  {
   "cell_type": "markdown",
   "id": "130a7665-45d8-4571-88c5-1c7ac5ce2828",
   "metadata": {},
   "source": [
    "# 5)"
   ]
  },
  {
   "cell_type": "markdown",
   "id": "18fe273a-4cbc-43c4-805c-12bf797107b2",
   "metadata": {},
   "source": [
    "Inheritance not covered yet."
   ]
  }
 ],
 "metadata": {
  "kernelspec": {
   "display_name": "Python 3 (ipykernel)",
   "language": "python",
   "name": "python3"
  },
  "language_info": {
   "codemirror_mode": {
    "name": "ipython",
    "version": 3
   },
   "file_extension": ".py",
   "mimetype": "text/x-python",
   "name": "python",
   "nbconvert_exporter": "python",
   "pygments_lexer": "ipython3",
   "version": "3.10.8"
  }
 },
 "nbformat": 4,
 "nbformat_minor": 5
}
