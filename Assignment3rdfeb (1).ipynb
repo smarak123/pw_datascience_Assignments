{
 "cells": [
  {
   "cell_type": "markdown",
   "id": "7b5f10a5-22d8-4181-bce0-60c1861724fa",
   "metadata": {},
   "source": [
    "## 1)\n"
   ]
  },
  {
   "cell_type": "markdown",
   "id": "c23a7cd5-1189-44c1-8ecf-b427063b0b62",
   "metadata": {},
   "source": [
    "def "
   ]
  },
  {
   "cell_type": "code",
   "execution_count": 1,
   "id": "83d28533-b48a-4ff9-8e15-763913f83bf1",
   "metadata": {},
   "outputs": [
    {
     "data": {
      "text/plain": [
       "[1, 3, 5, 7, 9, 11, 13, 15, 17, 19, 21, 23, 25]"
      ]
     },
     "execution_count": 1,
     "metadata": {},
     "output_type": "execute_result"
    }
   ],
   "source": [
    "def odd():\n",
    "    l = []\n",
    "    for i in range(26):\n",
    "        if i%2!=0:\n",
    "            l.append(i)\n",
    "    return l\n",
    "odd()"
   ]
  },
  {
   "cell_type": "markdown",
   "id": "be06d7be-8053-4000-9851-025717dd6f20",
   "metadata": {},
   "source": [
    "## 2)"
   ]
  },
  {
   "cell_type": "markdown",
   "id": "50349eb9-81e5-42c8-aff5-ac23453ee664",
   "metadata": {},
   "source": [
    "### *args and **kwargs is used to take n no. of elements as input and take n no. of dictionaries as input respectively"
   ]
  },
  {
   "cell_type": "code",
   "execution_count": 2,
   "id": "f6146281-b07d-4561-b8fd-769a5bbe8a02",
   "metadata": {},
   "outputs": [
    {
     "data": {
      "text/plain": [
       "(1, 3, [4, 7, 8], 'gh', (7, 8))"
      ]
     },
     "execution_count": 2,
     "metadata": {},
     "output_type": "execute_result"
    }
   ],
   "source": [
    "def test(*args):\n",
    "    return args\n",
    "test(1,3,[4,7,8],\"gh\",(7,8))"
   ]
  },
  {
   "cell_type": "code",
   "execution_count": 3,
   "id": "3fee2581-b7bb-40b6-8b74-01cd2a2cc48f",
   "metadata": {},
   "outputs": [
    {
     "data": {
      "text/plain": [
       "{'name': 'Taran', 'age': 20}"
      ]
     },
     "execution_count": 3,
     "metadata": {},
     "output_type": "execute_result"
    }
   ],
   "source": [
    "def test1(**kwargs):\n",
    "    return kwargs\n",
    "test1(name=\"Taran\",age=20)"
   ]
  },
  {
   "cell_type": "markdown",
   "id": "52d20785-217d-4ab0-afcb-80ee50edbf93",
   "metadata": {},
   "source": [
    "## 3)"
   ]
  },
  {
   "cell_type": "markdown",
   "id": "e80d08f1-6e1f-4b5d-b902-71ccbb4ceee1",
   "metadata": {},
   "source": [
    "### Iterator is an object which consists of countable number of values to be iterated upon.\n",
    "iter() method and next() method are used for iterating over the object."
   ]
  },
  {
   "cell_type": "code",
   "execution_count": 4,
   "id": "73be6e89-d9fe-4623-8161-f6aa7b32ef9f",
   "metadata": {},
   "outputs": [
    {
     "name": "stdout",
     "output_type": "stream",
     "text": [
      "2\n",
      "4\n",
      "6\n",
      "8\n",
      "10\n"
     ]
    }
   ],
   "source": [
    "l = [2, 4, 6, 8, 10, 12, 14, 16, 18, 20]\n",
    "obj = iter(l)\n",
    "for i in range(5):\n",
    "    print(next(obj))"
   ]
  },
  {
   "cell_type": "markdown",
   "id": "b921ae40-6ee8-4807-ae20-183cd7df9469",
   "metadata": {},
   "source": [
    "## 4)"
   ]
  },
  {
   "cell_type": "markdown",
   "id": "23158eb7-78b4-4bdd-bc1f-909a80051e87",
   "metadata": {},
   "source": [
    "A generator function generates values in the sequence of one at a time rather than returning all the values at once.Thats why it uses the yield keyword to generate the values"
   ]
  },
  {
   "cell_type": "code",
   "execution_count": 8,
   "id": "1ee39eb5-018a-40da-aa72-6f997cb1201c",
   "metadata": {},
   "outputs": [
    {
     "name": "stdout",
     "output_type": "stream",
     "text": [
      "0\n",
      "1\n",
      "2\n",
      "3\n",
      "4\n"
     ]
    }
   ],
   "source": [
    "def test1():\n",
    "    for i in range(5):\n",
    "        yield i\n",
    "obj = test1()\n",
    "for i in obj:\n",
    "    print(i)"
   ]
  },
  {
   "cell_type": "markdown",
   "id": "ce97d8e2-71e4-48ce-86af-178b036d0d6c",
   "metadata": {},
   "source": [
    "## 5)"
   ]
  },
  {
   "cell_type": "code",
   "execution_count": 11,
   "id": "1164b77b-1760-4029-89d7-6520ad0e3920",
   "metadata": {},
   "outputs": [
    {
     "name": "stdout",
     "output_type": "stream",
     "text": [
      "2\n",
      "3\n",
      "5\n",
      "7\n",
      "11\n",
      "13\n",
      "17\n",
      "19\n",
      "23\n",
      "29\n",
      "31\n",
      "37\n",
      "41\n",
      "43\n",
      "47\n",
      "53\n",
      "59\n",
      "61\n",
      "67\n",
      "71\n"
     ]
    }
   ],
   "source": [
    "def prime():\n",
    "    for i in range(2,1000):\n",
    "        flag=True\n",
    "        for j in range(2,int(i/2)+1):\n",
    "            if(i%j)==0:\n",
    "                flag=False\n",
    "                break\n",
    "        if flag:\n",
    "            yield i\n",
    "obj = prime()\n",
    "obj1 = iter(obj)\n",
    "for i in range(20):\n",
    "    print(next(obj1))"
   ]
  },
  {
   "cell_type": "code",
   "execution_count": null,
   "id": "9cc25de1-9d0e-4951-acf7-adc573c84e2f",
   "metadata": {},
   "outputs": [],
   "source": []
  }
 ],
 "metadata": {
  "kernelspec": {
   "display_name": "Python 3 (ipykernel)",
   "language": "python",
   "name": "python3"
  },
  "language_info": {
   "codemirror_mode": {
    "name": "ipython",
    "version": 3
   },
   "file_extension": ".py",
   "mimetype": "text/x-python",
   "name": "python",
   "nbconvert_exporter": "python",
   "pygments_lexer": "ipython3",
   "version": "3.10.8"
  }
 },
 "nbformat": 4,
 "nbformat_minor": 5
}
