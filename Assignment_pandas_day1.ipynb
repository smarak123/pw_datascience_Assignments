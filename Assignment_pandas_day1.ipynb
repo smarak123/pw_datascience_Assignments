{
 "cells": [
  {
   "cell_type": "code",
   "execution_count": 1,
   "id": "62e84d07-8abd-4e66-ad44-eb792378a7eb",
   "metadata": {},
   "outputs": [],
   "source": [
    "import pandas as pd"
   ]
  },
  {
   "cell_type": "markdown",
   "id": "f2f9764f-1730-429e-831b-38dfdc23bf54",
   "metadata": {},
   "source": [
    "1"
   ]
  },
  {
   "cell_type": "code",
   "execution_count": 9,
   "id": "afbeb710-7ad2-4fae-a5f0-17935990416d",
   "metadata": {},
   "outputs": [],
   "source": [
    "series = pd.Series([4,8,15,16,23,42])"
   ]
  },
  {
   "cell_type": "code",
   "execution_count": 7,
   "id": "791e76c6-9e79-4bc1-aab9-2082d996570f",
   "metadata": {},
   "outputs": [
    {
     "name": "stdout",
     "output_type": "stream",
     "text": [
      "0     4\n",
      "1     8\n",
      "2    15\n",
      "3    16\n",
      "4    23\n",
      "5    42\n",
      "dtype: int64\n"
     ]
    }
   ],
   "source": [
    "print(series)"
   ]
  },
  {
   "cell_type": "markdown",
   "id": "ff8d68ce-e608-416c-bdba-cd877b7d334f",
   "metadata": {},
   "source": [
    "............................."
   ]
  },
  {
   "cell_type": "markdown",
   "id": "a9d27eec-7121-43ff-a2c8-1d6cc2e08c1b",
   "metadata": {},
   "source": [
    "2"
   ]
  },
  {
   "cell_type": "code",
   "execution_count": 11,
   "id": "9d810bdb-378f-43a9-8d4a-d127e597ead8",
   "metadata": {},
   "outputs": [],
   "source": [
    "series1 = pd.Series([i for i in range(1,11)])"
   ]
  },
  {
   "cell_type": "code",
   "execution_count": 12,
   "id": "e482433b-ecd8-4cc6-9e3b-1b8a53312c1a",
   "metadata": {},
   "outputs": [
    {
     "name": "stdout",
     "output_type": "stream",
     "text": [
      "0     1\n",
      "1     2\n",
      "2     3\n",
      "3     4\n",
      "4     5\n",
      "5     6\n",
      "6     7\n",
      "7     8\n",
      "8     9\n",
      "9    10\n",
      "dtype: int64\n"
     ]
    }
   ],
   "source": [
    "print(series1)"
   ]
  },
  {
   "cell_type": "markdown",
   "id": "4242f0dc-3a03-4e65-ad4c-ebad84e504f3",
   "metadata": {},
   "source": [
    "........................"
   ]
  },
  {
   "cell_type": "markdown",
   "id": "24a2a9b3-b9b4-48b9-941e-670aee5595c7",
   "metadata": {},
   "source": [
    "3\n"
   ]
  },
  {
   "cell_type": "code",
   "execution_count": 18,
   "id": "1b9f9662-fef2-419d-8e95-36c4fc0ed4ae",
   "metadata": {},
   "outputs": [],
   "source": [
    "data =  {\"Name\":[\"Alice\",\"Bob\",\"Claire\"],\n",
    "       \"Age\":[25,30,27],\n",
    "      \"Gender\":[\"Female\",\"Male\",\"Female\"]}"
   ]
  },
  {
   "cell_type": "code",
   "execution_count": 19,
   "id": "ed02fafa-994b-448c-b15c-9f6f511912a8",
   "metadata": {},
   "outputs": [],
   "source": [
    "df = pd.DataFrame(data)"
   ]
  },
  {
   "cell_type": "code",
   "execution_count": 22,
   "id": "54930a67-e87e-4956-bbc8-0b9612d33627",
   "metadata": {},
   "outputs": [
    {
     "name": "stdout",
     "output_type": "stream",
     "text": [
      "     Name  Age  Gender\n",
      "0   Alice   25  Female\n",
      "1     Bob   30    Male\n",
      "2  Claire   27  Female\n"
     ]
    }
   ],
   "source": [
    "print(df)"
   ]
  },
  {
   "cell_type": "markdown",
   "id": "fdcff7cc-13a1-44bf-862a-6c77f1eabcfc",
   "metadata": {},
   "source": [
    ".................\n",
    "\n",
    "4"
   ]
  },
  {
   "cell_type": "markdown",
   "id": "159eff4f-4e6d-4ef5-8e98-ba0959d44c9e",
   "metadata": {},
   "source": [
    "A DataFrame is a data structure that organizes data into a 2-dimensional table of rows and columns, much like a spreadsheet."
   ]
  },
  {
   "cell_type": "markdown",
   "id": "8b3b3a39-960a-47e4-a4f4-07ce024f6108",
   "metadata": {},
   "source": [
    "A Pandas Series is like a column in a table.\n",
    "\n",
    "It is a one-dimensional array holding data of any type"
   ]
  },
  {
   "cell_type": "code",
   "execution_count": 24,
   "id": "ce600fe9-1df9-4516-9e4c-89142e63be37",
   "metadata": {},
   "outputs": [
    {
     "name": "stdout",
     "output_type": "stream",
     "text": [
      "0    1\n",
      "1    7\n",
      "2    2\n",
      "dtype: int64\n"
     ]
    }
   ],
   "source": [
    "a = [1, 7, 2]\n",
    "\n",
    "myvar = pd.Series(a)\n",
    "\n",
    "print(myvar)"
   ]
  },
  {
   "cell_type": "code",
   "execution_count": 31,
   "id": "5366a2c0-cc9b-4584-84e8-0a073c78b33e",
   "metadata": {},
   "outputs": [
    {
     "name": "stdout",
     "output_type": "stream",
     "text": [
      "    0    1     2\n",
      "0   1    7     2\n",
      "1  gg  ugi  uykf\n"
     ]
    }
   ],
   "source": [
    "b=[\"gg\",\"ugi\",\"uykf\"]\n",
    "var = pd.DataFrame([a,b])\n",
    "print(var)"
   ]
  },
  {
   "cell_type": "code",
   "execution_count": 27,
   "id": "047ba57c-30d8-48c0-8f86-377eb69e66be",
   "metadata": {},
   "outputs": [
    {
     "data": {
      "text/plain": [
       "pandas.core.series.Series"
      ]
     },
     "execution_count": 27,
     "metadata": {},
     "output_type": "execute_result"
    }
   ],
   "source": [
    "type(myvar)"
   ]
  },
  {
   "cell_type": "code",
   "execution_count": 28,
   "id": "9a46d164-6c5a-43ef-9423-9acd6c2c923b",
   "metadata": {},
   "outputs": [
    {
     "data": {
      "text/plain": [
       "pandas.core.frame.DataFrame"
      ]
     },
     "execution_count": 28,
     "metadata": {},
     "output_type": "execute_result"
    }
   ],
   "source": [
    "type(var)"
   ]
  },
  {
   "cell_type": "markdown",
   "id": "c94ea0b2-7289-45f9-930c-d9f60e7e4b72",
   "metadata": {},
   "source": [
    "............\n",
    "\n",
    "5"
   ]
  },
  {
   "cell_type": "markdown",
   "id": "78fae111-287b-4dc6-8d95-04e4199fb206",
   "metadata": {},
   "source": [
    "dropna , fillna etc."
   ]
  },
  {
   "cell_type": "markdown",
   "id": "f337830a-b949-4f7c-be37-46df4c600b3c",
   "metadata": {},
   "source": [
    "................\n",
    "\n",
    "6"
   ]
  },
  {
   "cell_type": "markdown",
   "id": "696055c2-d116-4a5a-8dd2-3c7df5c1f2fb",
   "metadata": {},
   "source": [
    "All Pandas data structures are value mutable (can be changed) and except Series all are size mutable. Series is size immutable"
   ]
  },
  {
   "cell_type": "markdown",
   "id": "0acab70b-3202-48e5-9d31-46c59daf852e",
   "metadata": {},
   "source": [
    "...............\n",
    "\n",
    "7"
   ]
  },
  {
   "cell_type": "code",
   "execution_count": 29,
   "id": "3ef75c17-b169-49aa-b30d-ec68b2be9514",
   "metadata": {},
   "outputs": [],
   "source": [
    "df2 = pd.DataFrame([series,series1])"
   ]
  },
  {
   "cell_type": "code",
   "execution_count": 30,
   "id": "50e48cf0-265f-4c04-89fa-bc984447dff9",
   "metadata": {},
   "outputs": [
    {
     "name": "stdout",
     "output_type": "stream",
     "text": [
      "     0    1     2     3     4     5    6    7    8     9\n",
      "0  4.0  8.0  15.0  16.0  23.0  42.0  NaN  NaN  NaN   NaN\n",
      "1  1.0  2.0   3.0   4.0   5.0   6.0  7.0  8.0  9.0  10.0\n"
     ]
    }
   ],
   "source": [
    "print(df2)"
   ]
  },
  {
   "cell_type": "code",
   "execution_count": null,
   "id": "dd53eb1b-a206-4cb3-b785-9a4852deedab",
   "metadata": {},
   "outputs": [],
   "source": []
  }
 ],
 "metadata": {
  "kernelspec": {
   "display_name": "Python 3 (ipykernel)",
   "language": "python",
   "name": "python3"
  },
  "language_info": {
   "codemirror_mode": {
    "name": "ipython",
    "version": 3
   },
   "file_extension": ".py",
   "mimetype": "text/x-python",
   "name": "python",
   "nbconvert_exporter": "python",
   "pygments_lexer": "ipython3",
   "version": "3.10.8"
  }
 },
 "nbformat": 4,
 "nbformat_minor": 5
}
