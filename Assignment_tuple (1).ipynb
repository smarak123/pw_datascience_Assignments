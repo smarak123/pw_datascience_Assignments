{
 "cells": [
  {
   "cell_type": "markdown",
   "id": "8a570da4-4ec3-45d5-8c55-4b5577159ccf",
   "metadata": {},
   "source": [
    "1) Tuples contain ordered collection of data .Tuples are similar to lists . \n",
    "only difference tuples are immutable ."
   ]
  },
  {
   "cell_type": "markdown",
   "id": "75bbea1a-479c-4534-ba56-0bc6dcabd55d",
   "metadata": {},
   "source": [
    "2. Index and count."
   ]
  },
  {
   "cell_type": "code",
   "execution_count": 1,
   "id": "f75791f1-113c-4af9-a8ed-9a1be323d56f",
   "metadata": {},
   "outputs": [
    {
     "data": {
      "text/plain": [
       "2"
      ]
     },
     "execution_count": 1,
     "metadata": {},
     "output_type": "execute_result"
    }
   ],
   "source": [
    "t=(1,2,3,4,5)\n",
    "t.index(3)"
   ]
  },
  {
   "cell_type": "code",
   "execution_count": 2,
   "id": "09bb144b-b9cf-4d3c-9a8d-db8103443760",
   "metadata": {},
   "outputs": [
    {
     "data": {
      "text/plain": [
       "1"
      ]
     },
     "execution_count": 2,
     "metadata": {},
     "output_type": "execute_result"
    }
   ],
   "source": [
    "t.count(2)"
   ]
  },
  {
   "cell_type": "markdown",
   "id": "98668a84-4c8a-4fc5-8094-eb5a3a074485",
   "metadata": {},
   "source": [
    "Since tuples are immutable hence we cant make any alterations to it."
   ]
  },
  {
   "cell_type": "markdown",
   "id": "080b6341-3766-4ab5-acb2-293957557082",
   "metadata": {},
   "source": [
    "3. Set"
   ]
  },
  {
   "cell_type": "code",
   "execution_count": 3,
   "id": "8a4d5ec6-a36a-4fa1-90ee-a02aa6c21b6a",
   "metadata": {},
   "outputs": [
    {
     "data": {
      "text/plain": [
       "{1, 2, 3, 4}"
      ]
     },
     "execution_count": 3,
     "metadata": {},
     "output_type": "execute_result"
    }
   ],
   "source": [
    "set([1, 1, 1, 2, 1, 3, 1, 4, 2, 1, 2, 2, 2, 3, 2, 4, 3, 1, 3, 2, 3, 3, 3, 4, 4, 1, 4, 2, 4, 3, 4, 4])"
   ]
  },
  {
   "cell_type": "markdown",
   "id": "3913edba-2a45-42d6-afdd-e8b7be02438a",
   "metadata": {},
   "source": [
    "4. Union creates a new set where as update adds only the elements which are already not present in the current set."
   ]
  },
  {
   "cell_type": "code",
   "execution_count": 4,
   "id": "8201dd19-adc0-4638-b090-cb90f692014c",
   "metadata": {},
   "outputs": [
    {
     "data": {
      "text/plain": [
       "{1, 2, 3, 4, 6, 7}"
      ]
     },
     "execution_count": 4,
     "metadata": {},
     "output_type": "execute_result"
    }
   ],
   "source": [
    "s={1,2,3,4}\n",
    "s1={4,6,7}\n",
    "s.union(s1)"
   ]
  },
  {
   "cell_type": "code",
   "execution_count": 5,
   "id": "58a01d20-b363-4e9d-9421-719b5a8835b1",
   "metadata": {},
   "outputs": [],
   "source": [
    "s2={6,7,8}\n",
    "s3={7,8,9}\n",
    "s2.update(s3)"
   ]
  },
  {
   "cell_type": "code",
   "execution_count": 6,
   "id": "df1a9055-fd3d-4da9-a625-9da6a215c2e7",
   "metadata": {},
   "outputs": [
    {
     "data": {
      "text/plain": [
       "{6, 7, 8, 9}"
      ]
     },
     "execution_count": 6,
     "metadata": {},
     "output_type": "execute_result"
    }
   ],
   "source": [
    "s2"
   ]
  },
  {
   "cell_type": "markdown",
   "id": "ec281345-a77f-482b-a19a-d233bc065c14",
   "metadata": {},
   "source": [
    "5. Dictionary consists of key:value pairs just like the actual dictionary.\n",
    "Dictionary is Ordered."
   ]
  },
  {
   "cell_type": "code",
   "execution_count": 8,
   "id": "1c9e6b9e-1e28-46be-a141-dbb8d8c7cd64",
   "metadata": {},
   "outputs": [
    {
     "data": {
      "text/plain": [
       "{'name': 'Smarak', 'number': 87557}"
      ]
     },
     "execution_count": 8,
     "metadata": {},
     "output_type": "execute_result"
    }
   ],
   "source": [
    "d = {\"name\":\"Smarak\",\"number\":87557}\n",
    "d"
   ]
  },
  {
   "cell_type": "markdown",
   "id": "c11c12b3-8b5c-4b9e-9f76-12ca1bc2f9b4",
   "metadata": {},
   "source": [
    "6. Yes. We can create a nested dictionary."
   ]
  },
  {
   "cell_type": "code",
   "execution_count": 10,
   "id": "62390323-66da-40b9-9db5-841586c19f67",
   "metadata": {},
   "outputs": [
    {
     "data": {
      "text/plain": [
       "{'Student': {'name': 'Rup', 'phone': 76554}}"
      ]
     },
     "execution_count": 10,
     "metadata": {},
     "output_type": "execute_result"
    }
   ],
   "source": [
    "d1 = {\"Student\":{\"name\":\"Rup\",\"phone\":76554}}\n",
    "d1"
   ]
  },
  {
   "cell_type": "markdown",
   "id": "57e41f73-e8c2-46fd-85a4-7a305d89d1e6",
   "metadata": {},
   "source": [
    "7"
   ]
  },
  {
   "cell_type": "code",
   "execution_count": 13,
   "id": "f51f7337-36e7-48c2-8828-87a0a3ca7d86",
   "metadata": {},
   "outputs": [
    {
     "data": {
      "text/plain": [
       "{'language': 'Python',\n",
       " 'course': 'Data Science Masters',\n",
       " 'topics': \"['Python', 'Machine Learning’, 'Deep Learning']\"}"
      ]
     },
     "execution_count": 13,
     "metadata": {},
     "output_type": "execute_result"
    }
   ],
   "source": [
    "dict1 = {'language' : 'Python', 'course': 'Data Science Masters'}\n",
    "dict1.setdefault(\"topics\",\"['Python', 'Machine Learning’, 'Deep Learning']\")\n",
    "dict1"
   ]
  },
  {
   "cell_type": "markdown",
   "id": "4b0a3e60-7e5f-4b5a-88fc-574bc772cd4f",
   "metadata": {},
   "source": [
    "8. Keys , Values , Objects"
   ]
  },
  {
   "cell_type": "code",
   "execution_count": 15,
   "id": "6d747e7f-5332-4165-9440-c7d0122af937",
   "metadata": {},
   "outputs": [
    {
     "data": {
      "text/plain": [
       "dict_keys(['Sport', 'Teams'])"
      ]
     },
     "execution_count": 15,
     "metadata": {},
     "output_type": "execute_result"
    }
   ],
   "source": [
    "dict1 = {'Sport': 'Cricket' , 'Teams': ['India', 'Australia', 'England', 'South Africa', 'Sri Lanka', 'New Zealand']}\n",
    "dict1.keys()"
   ]
  },
  {
   "cell_type": "code",
   "execution_count": 16,
   "id": "e4c1a0e5-e3d9-4048-8cc2-3e9dfd8179ca",
   "metadata": {},
   "outputs": [
    {
     "data": {
      "text/plain": [
       "dict_values(['Cricket', ['India', 'Australia', 'England', 'South Africa', 'Sri Lanka', 'New Zealand']])"
      ]
     },
     "execution_count": 16,
     "metadata": {},
     "output_type": "execute_result"
    }
   ],
   "source": [
    "dict1.values()"
   ]
  },
  {
   "cell_type": "code",
   "execution_count": 17,
   "id": "deda3c32-cffc-4301-ad06-8b63a615a332",
   "metadata": {},
   "outputs": [
    {
     "data": {
      "text/plain": [
       "dict_items([('Sport', 'Cricket'), ('Teams', ['India', 'Australia', 'England', 'South Africa', 'Sri Lanka', 'New Zealand'])])"
      ]
     },
     "execution_count": 17,
     "metadata": {},
     "output_type": "execute_result"
    }
   ],
   "source": [
    "dict1.items()"
   ]
  },
  {
   "cell_type": "code",
   "execution_count": null,
   "id": "ba1cb8bc-ccb4-49c8-b387-1b098ed4ebfe",
   "metadata": {},
   "outputs": [],
   "source": []
  }
 ],
 "metadata": {
  "kernelspec": {
   "display_name": "Python 3 (ipykernel)",
   "language": "python",
   "name": "python3"
  },
  "language_info": {
   "codemirror_mode": {
    "name": "ipython",
    "version": 3
   },
   "file_extension": ".py",
   "mimetype": "text/x-python",
   "name": "python",
   "nbconvert_exporter": "python",
   "pygments_lexer": "ipython3",
   "version": "3.10.8"
  }
 },
 "nbformat": 4,
 "nbformat_minor": 5
}
